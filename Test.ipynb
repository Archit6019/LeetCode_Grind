{
 "cells": [
  {
   "cell_type": "code",
   "execution_count": 21,
   "metadata": {},
   "outputs": [],
   "source": [
    "# Valid Anagram \n",
    "\n",
    "s = \"anagram\"\n",
    "t = \"nagaram\"\n",
    "\n",
    "a = ''.join(sorted(s))\n",
    "b = ''.join(sorted(t))\n",
    "\n"
   ]
  },
  {
   "cell_type": "code",
   "execution_count": 25,
   "metadata": {},
   "outputs": [
    {
     "data": {
      "text/plain": [
       "False"
      ]
     },
     "execution_count": 25,
     "metadata": {},
     "output_type": "execute_result"
    }
   ],
   "source": [
    "class Solution:\n",
    "    def isAnagram(self, s:str, t:str) -> bool:\n",
    "        a = ''.join(sorted(s))\n",
    "        b = ''.join(sorted(t))\n",
    "        return a == b \n",
    "\n",
    "a = Solution()\n",
    "\n",
    "s = \"rat\"\n",
    "t = \"car\"\n",
    "\n",
    "a.isAnagram(s, t)\n"
   ]
  },
  {
   "cell_type": "code",
   "execution_count": 12,
   "metadata": {},
   "outputs": [
    {
     "data": {
      "text/plain": [
       "[0, 1]"
      ]
     },
     "execution_count": 12,
     "metadata": {},
     "output_type": "execute_result"
    }
   ],
   "source": [
    "# Two Sum Problem \n",
    "from typing import List \n",
    "\n",
    "class Solution:\n",
    "    def twoSum(self, nums : List[int], target:int) -> List[int]:\n",
    "        hash_map = {}\n",
    "        n = len(nums)\n",
    "\n",
    "        for i in range(n):\n",
    "            complement = target - nums[i]\n",
    "            if complement in hash_map:\n",
    "                return [hash_map[complement], i]\n",
    "            hash_map[nums[i]] = i\n",
    "        \n",
    "        print(hash_map)\n",
    "\n",
    "\n",
    "a = Solution()\n",
    "nums = [2,7,11,15]\n",
    "target = 9\n",
    "\n",
    "a.twoSum(nums, target)"
   ]
  },
  {
   "cell_type": "code",
   "execution_count": 22,
   "metadata": {},
   "outputs": [
    {
     "name": "stdout",
     "output_type": "stream",
     "text": [
      "aet\n",
      "aet\n",
      "ant\n",
      "aet\n",
      "ant\n",
      "abt\n",
      "[['eat', 'tea', 'ate'], ['tan', 'nat'], ['bat']]\n"
     ]
    }
   ],
   "source": [
    "# Group Anagrams \n",
    "\n",
    "from collections import Counter\n",
    "\n",
    "hash_map = {}\n",
    "\n",
    "strs = [\"eat\",\"tea\",\"tan\",\"ate\",\"nat\",\"bat\"]\n",
    "for i in strs:\n",
    "    sorted_word = ''.join(sorted(i))\n",
    "    print(sorted_word)\n",
    "    if sorted_word in hash_map:\n",
    "        hash_map[sorted_word].append(i)\n",
    "    else:\n",
    "        hash_map[sorted_word] = [i]\n",
    "\n",
    "print(list(hash_map.values()))\n",
    "\n"
   ]
  },
  {
   "cell_type": "code",
   "execution_count": 11,
   "metadata": {},
   "outputs": [],
   "source": [
    "# Top K frequent elements \n",
    "from collections import Counter\n",
    "\n",
    "nums = [1]\n",
    "k = 1\n",
    "\n",
    "count = Counter(nums)\n",
    "a = dict(sorted(count.items(), key=lambda item : item[1], reverse=True))\n",
    "a_list = list(a.keys())[:k]"
   ]
  },
  {
   "cell_type": "code",
   "execution_count": 1,
   "metadata": {},
   "outputs": [
    {
     "name": "stdout",
     "output_type": "stream",
     "text": [
      "[0, 0]\n"
     ]
    },
    {
     "data": {
      "text/plain": [
       "[1.0, 1.0]"
      ]
     },
     "execution_count": 1,
     "metadata": {},
     "output_type": "execute_result"
    }
   ],
   "source": [
    "# Product of Array except self \n",
    "import numpy as np\n",
    "\n",
    "nums = [1,1]\n",
    "res = []\n",
    "\n",
    "if len(set(nums)) == 1:\n",
    "    print([0 for i in range(len(nums))])\n",
    "\n",
    "\n",
    "for i in nums:\n",
    "    res.append([x for x in nums if x != i])\n",
    "\n",
    "output = [np.prod(i) for i in res]\n",
    "\n",
    "output"
   ]
  },
  {
   "cell_type": "code",
   "execution_count": 5,
   "metadata": {},
   "outputs": [
    {
     "data": {
      "text/plain": [
       "[0, 16, 0]"
      ]
     },
     "execution_count": 5,
     "metadata": {},
     "output_type": "execute_result"
    }
   ],
   "source": [
    "from typing import List\n",
    "import operator \n",
    "import functools\n",
    "\n",
    "class Solution:\n",
    "    def productExceptSelf(self, nums : List[int]) -> List[int]:\n",
    "            a = set(nums)\n",
    "            if len(a) == 1:\n",
    "                 return [list(a)[0] for i in range(len(nums))]\n",
    "            else:\n",
    "                res = []\n",
    "                for num in nums:\n",
    "                    res.append([x for x in nums if x != num])\n",
    "                return [np.prod(i) for i in res]\n",
    "\n",
    "a = Solution()\n",
    "nums = [4,0,4]\n",
    "a.productExceptSelf(nums)\n"
   ]
  },
  {
   "cell_type": "code",
   "execution_count": 2,
   "metadata": {},
   "outputs": [],
   "source": [
    "nums = [1,2,3,1]\n",
    "a = set(nums)"
   ]
  },
  {
   "cell_type": "code",
   "execution_count": 11,
   "metadata": {},
   "outputs": [
    {
     "name": "stdout",
     "output_type": "stream",
     "text": [
      "8\n"
     ]
    }
   ],
   "source": [
    "# Missing Number \n",
    "\n",
    "nums = [9,6,4,2,3,5,7,0,1]\n",
    "for i in range(len(nums) + 1):\n",
    "    if i not in nums:\n",
    "        print(i)"
   ]
  },
  {
   "cell_type": "code",
   "execution_count": 37,
   "metadata": {},
   "outputs": [
    {
     "name": "stdout",
     "output_type": "stream",
     "text": [
      "4\n"
     ]
    }
   ],
   "source": [
    "# Single Number \n",
    "from collections import Counter\n",
    "nums = [4,1,2,1,2]\n",
    "map = {}\n",
    "for i in nums:\n",
    "    if i in map:\n",
    "        map[i] += 1\n",
    "    else:\n",
    "        map[i] = 1\n",
    "\n",
    "for i in map:\n",
    "    if map[i] == 1:\n",
    "        print(i)"
   ]
  },
  {
   "cell_type": "code",
   "execution_count": 4,
   "metadata": {},
   "outputs": [
    {
     "data": {
      "text/plain": [
       "10"
      ]
     },
     "execution_count": 4,
     "metadata": {},
     "output_type": "execute_result"
    }
   ],
   "source": [
    "# Longest Consecutive Sequence \n",
    "\n",
    "nums = [0,3,7,2,5,8,4,6,0,1]\n",
    "array = sorted(nums)\n",
    "\n",
    "count = 1\n",
    "for i in array:\n",
    "    if i + 1 in array:\n",
    "        count += 1 \n",
    "\n",
    "count"
   ]
  },
  {
   "cell_type": "code",
   "execution_count": 12,
   "metadata": {},
   "outputs": [
    {
     "name": "stdout",
     "output_type": "stream",
     "text": [
      "3\n"
     ]
    }
   ],
   "source": [
    "# Find the Duplicate Number \n",
    "from collections import Counter\n",
    "\n",
    "nums = [3,3,3,3,3]\n",
    "count = Counter(nums)\n",
    "for i, j in count.items():\n",
    "    if j >= 2:\n",
    "        print(i)\n",
    "\n"
   ]
  },
  {
   "cell_type": "code",
   "execution_count": 13,
   "metadata": {},
   "outputs": [
    {
     "data": {
      "text/plain": [
       "[]"
      ]
     },
     "execution_count": 13,
     "metadata": {},
     "output_type": "execute_result"
    }
   ],
   "source": [
    "nums = [1]\n",
    "\n",
    "from collections import Counter \n",
    "\n",
    "output = []\n",
    "count = Counter(nums)\n",
    "for i, j in count.items():\n",
    "    if j == 2:\n",
    "        output.append(i)\n",
    "\n",
    "output"
   ]
  },
  {
   "cell_type": "code",
   "execution_count": 9,
   "metadata": {},
   "outputs": [
    {
     "name": "stdout",
     "output_type": "stream",
     "text": [
      "[]\n"
     ]
    }
   ],
   "source": [
    "nums = [1]\n",
    "output = []\n",
    "for i in range(1, len(nums) + 1):\n",
    "    if i not in nums:\n",
    "        output.append(i)\n",
    "try:\n",
    "    print(min(output))\n",
    "except ValueError:\n",
    "    print(output)\n",
    "\n"
   ]
  },
  {
   "cell_type": "code",
   "execution_count": 23,
   "metadata": {},
   "outputs": [
    {
     "name": "stdout",
     "output_type": "stream",
     "text": [
      "[24, 12, 8, 6]\n"
     ]
    }
   ],
   "source": [
    "# Product array except self \n",
    "\n",
    "nums = [1,2,3,4]\n",
    "res = [1] * (len(nums))\n",
    "\n",
    "prefix = 1\n",
    "for i in range(len(nums)):\n",
    "    res[i] = prefix\n",
    "    prefix *= nums[i]\n",
    "\n",
    "postfix = 1\n",
    "for i in range(len(nums) - 1, -1, -1):\n",
    "    res[i] *= postfix\n",
    "    postfix *= nums[i]\n",
    "\n",
    "print(res)\n",
    "\n"
   ]
  },
  {
   "cell_type": "code",
   "execution_count": 21,
   "metadata": {},
   "outputs": [
    {
     "data": {
      "text/plain": [
       "[[1], [1, 2], [1, 2, 3], [1, 2, 3, 4]]"
      ]
     },
     "execution_count": 21,
     "metadata": {},
     "output_type": "execute_result"
    }
   ],
   "source": [
    "prefix"
   ]
  },
  {
   "cell_type": "code",
   "execution_count": 22,
   "metadata": {},
   "outputs": [
    {
     "data": {
      "text/plain": [
       "[[1, 2, 3, 4], [1, 2, 3], [1, 2], [1]]"
      ]
     },
     "execution_count": 22,
     "metadata": {},
     "output_type": "execute_result"
    }
   ],
   "source": [
    "postfix"
   ]
  },
  {
   "cell_type": "code",
   "execution_count": 11,
   "metadata": {},
   "outputs": [
    {
     "name": "stdout",
     "output_type": "stream",
     "text": [
      "4\n"
     ]
    }
   ],
   "source": [
    "# Longest Consecutive Sequence \n",
    "\n",
    "nums = [100, 4, 200, 1, 3, 2]\n",
    "num_set = set(nums)\n",
    "count = 0 \n",
    "\n",
    "for i in num_set:\n",
    "    if i - 1 not in num_set:\n",
    "        current = i \n",
    "        current_count = 1 \n",
    "\n",
    "        while current + 1 in num_set:\n",
    "            current += 1 \n",
    "            current_count += 1 \n",
    "\n",
    "        count = max(count, current_count)\n",
    "\n",
    "print(count)"
   ]
  },
  {
   "cell_type": "code",
   "execution_count": 7,
   "metadata": {},
   "outputs": [
    {
     "data": {
      "text/plain": [
       "-1"
      ]
     },
     "execution_count": 7,
     "metadata": {},
     "output_type": "execute_result"
    }
   ],
   "source": [
    "# Find the Index of the First Occurrence in a String\n",
    "\n",
    "haystack = \"sadbutsad\"\n",
    "needle = \"\"\n",
    "\n",
    "haystack.find(needle)"
   ]
  },
  {
   "cell_type": "code",
   "execution_count": 15,
   "metadata": {},
   "outputs": [
    {
     "name": "stdout",
     "output_type": "stream",
     "text": [
      "blue is sky the\n"
     ]
    }
   ],
   "source": [
    "# Reverse Words in a String\n",
    "\n",
    "s = \"the sky is blue\"\n",
    "list_s = s.split()\n",
    "\n",
    "print(\" \".join(s.split()[::-1]))"
   ]
  },
  {
   "cell_type": "code",
   "execution_count": 18,
   "metadata": {},
   "outputs": [
    {
     "name": "stdout",
     "output_type": "stream",
     "text": [
      "6\n"
     ]
    }
   ],
   "source": [
    "# Length of Last Word \n",
    "\n",
    "s = \"luffy is still joyboy\"\n",
    "print(len(s.split()[-1]))"
   ]
  },
  {
   "cell_type": "code",
   "execution_count": null,
   "metadata": {},
   "outputs": [],
   "source": []
  }
 ],
 "metadata": {
  "kernelspec": {
   "display_name": "pytorch",
   "language": "python",
   "name": "python3"
  },
  "language_info": {
   "codemirror_mode": {
    "name": "ipython",
    "version": 3
   },
   "file_extension": ".py",
   "mimetype": "text/x-python",
   "name": "python",
   "nbconvert_exporter": "python",
   "pygments_lexer": "ipython3",
   "version": "3.10.9"
  }
 },
 "nbformat": 4,
 "nbformat_minor": 2
}
